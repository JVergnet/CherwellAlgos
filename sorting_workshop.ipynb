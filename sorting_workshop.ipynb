{
 "metadata": {
  "language_info": {
   "codemirror_mode": {
    "name": "ipython",
    "version": 3
   },
   "file_extension": ".py",
   "mimetype": "text/x-python",
   "name": "python",
   "nbconvert_exporter": "python",
   "pygments_lexer": "ipython3",
   "version": "3.8.5-final"
  },
  "orig_nbformat": 2,
  "kernelspec": {
   "name": "python3",
   "display_name": "Python 3",
   "language": "python"
  }
 },
 "nbformat": 4,
 "nbformat_minor": 2,
 "cells": [
  {
   "source": [
    "# Sorting Algorithms : Hands-On session"
   ],
   "cell_type": "markdown",
   "metadata": {}
  },
  {
   "source": [
    "Follow the instruction to \n",
    "\n",
    "A) Code each sorting algorithm\n",
    "\n",
    "B) Measure the performances of a given algorithm\n",
    "\n",
    "C) Present these performances to the class"
   ],
   "cell_type": "markdown",
   "metadata": {}
  },
  {
   "source": [],
   "cell_type": "markdown",
   "metadata": {}
  },
  {
   "source": [
    "execute the following line for correct plotting (must be the first cell executed in the worksheet)\n",
    "\n",
    "(try %matplotlib widget for interactive graph)"
   ],
   "cell_type": "markdown",
   "metadata": {}
  },
  {
   "cell_type": "code",
   "execution_count": null,
   "metadata": {},
   "outputs": [],
   "source": [
    "%matplotlib inline"
   ]
  },
  {
   "source": [
    "Import the required libraries"
   ],
   "cell_type": "markdown",
   "metadata": {}
  },
  {
   "cell_type": "code",
   "execution_count": null,
   "metadata": {},
   "outputs": [],
   "source": [
    "import random\n",
    "import numpy as np \n",
    "import time\n",
    "\n",
    "import matplotlib\n",
    "import matplotlib.pyplot as plt"
   ]
  },
  {
   "source": [
    "# Sorting algorithms"
   ],
   "cell_type": "markdown",
   "metadata": {}
  },
  {
   "source": [
    "## Bubble Sort\n",
    "The basic idea is to do succesive swaps to bubble up the largest (or smallest) item to the end of the list, then the second largest, then the third largest and so on until no more swaps are needed.\n"
   ],
   "cell_type": "markdown",
   "metadata": {}
  },
  {
   "cell_type": "code",
   "execution_count": null,
   "metadata": {},
   "outputs": [],
   "source": [
    "list_len = 10\n",
    "unsorted_list  = random.sample(range (list_len), list_len)\n",
    "print(unsorted_list)"
   ]
  },
  {
   "cell_type": "code",
   "execution_count": null,
   "metadata": {},
   "outputs": [],
   "source": [
    "def bubbleSort(unsorted_list):\n",
    "    \"returns sorted list\"\n",
    "    pass"
   ]
  },
  {
   "cell_type": "code",
   "execution_count": null,
   "metadata": {},
   "outputs": [],
   "source": [
    "print(\"your pass the test\" if bubbleSort(unsorted_list) == sorted(unsorted_list) else \"you failed\")"
   ]
  },
  {
   "source": [
    "## Insertion Sort\n",
    "This is a sorting algorithm that sorts one data item at a time. It is rather similar\n",
    "to how you might sort a hand of cards. The algorithm takes one data item\n",
    "from the list and places It in the correct location in the list. This process is\n",
    "repeated until there are no more unsorted data items in the list."
   ],
   "cell_type": "markdown",
   "metadata": {}
  },
  {
   "cell_type": "code",
   "execution_count": null,
   "metadata": {},
   "outputs": [],
   "source": [
    "list_len = 10\n",
    "unsorted_list  = random.sample(range (list_len), list_len)\n",
    "print(unsorted_list)"
   ]
  },
  {
   "cell_type": "code",
   "execution_count": null,
   "metadata": {},
   "outputs": [],
   "source": [
    "def insertion_sort(list):\n",
    "    \"returns sorted list\"\n",
    "    pass"
   ]
  },
  {
   "cell_type": "code",
   "execution_count": null,
   "metadata": {},
   "outputs": [],
   "source": [
    "print(\"your pass the test\" if insertion_sort(unsorted_list) == sorted(unsorted_list) else \"you failed\")"
   ]
  },
  {
   "source": [
    "## Merge Sort \n",
    "A merge sort can sort a data set extremely quickly using divide and conquer. The principle of divide and\n",
    "conquer is to create two or more identical sub-problems from the larger problem, solving them individually\n",
    "and combining their solutions to solve the bigger problem. With the merge sort, the data set is repeatedly\n",
    "split in half until each item is in its own list. Adjacent lists are then merged back together, with each item in the sub-list being entered into the correct place in the new, combined list."
   ],
   "cell_type": "markdown",
   "metadata": {}
  },
  {
   "cell_type": "code",
   "execution_count": null,
   "metadata": {},
   "outputs": [],
   "source": [
    "list_len = 10\n",
    "unsorted_list  = random.sample(range (list_len), list_len)\n",
    "print(unsorted_list)"
   ]
  },
  {
   "cell_type": "code",
   "execution_count": null,
   "metadata": {},
   "outputs": [],
   "source": [
    "def merge_sort(list):\n",
    "    \"returns sorted list\"\n",
    "    pass"
   ]
  },
  {
   "cell_type": "code",
   "execution_count": null,
   "metadata": {},
   "outputs": [],
   "source": [
    "print(\"your pass the test\" if merge_sort(unsorted_list) == sorted(unsorted_list) else \"you failed\")"
   ]
  },
  {
   "source": [
    "## Quick Sort\n",
    "Perhaps not unsurprisingly given the name of the algorithm, the quicksort orders a data set extremely quickly\n",
    "using divide and conquer. The algorithm makes use a of a pivot value from the data set, against which other items are compared to determine their position. It is often considered more efficient than a merge sort due to requiring less memory than a typical recursive merge sort implementation, but this is not really the case. It is usually dependent on the factors affecting the algorithm such as the data set being sorted and the pivot chosen."
   ],
   "cell_type": "markdown",
   "metadata": {}
  },
  {
   "cell_type": "code",
   "execution_count": null,
   "metadata": {},
   "outputs": [],
   "source": [
    "list_len = 10\n",
    "unsorted_list  = random.sample(range (list_len), list_len)\n",
    "print(unsorted_list)"
   ]
  },
  {
   "cell_type": "code",
   "execution_count": null,
   "metadata": {},
   "outputs": [],
   "source": [
    "def merge_sort(list):\n",
    "    \"returns sorted list\"\n",
    "    pass"
   ]
  },
  {
   "cell_type": "code",
   "execution_count": null,
   "metadata": {},
   "outputs": [],
   "source": [
    "print(\"your pass the test\" if merge_sort(unsorted_list) == sorted(unsorted_list) else \"you failed\")"
   ]
  },
  {
   "source": [
    "# Comparing performances \n",
    "## Execution time\n",
    "Measure the execution time of your algorithm for a single execution"
   ],
   "cell_type": "markdown",
   "metadata": {}
  },
  {
   "cell_type": "code",
   "execution_count": null,
   "metadata": {},
   "outputs": [],
   "source": []
  },
  {
   "source": [
    "## Average execution time\n",
    "Measure the execution time averaged over 100 executions"
   ],
   "cell_type": "markdown",
   "metadata": {}
  },
  {
   "cell_type": "code",
   "execution_count": null,
   "metadata": {},
   "outputs": [],
   "source": []
  },
  {
   "source": [
    "## Execution time as function of n\n",
    "Measure the average execution time as a function of the size of the list "
   ],
   "cell_type": "markdown",
   "metadata": {}
  },
  {
   "cell_type": "code",
   "execution_count": null,
   "metadata": {},
   "outputs": [],
   "source": []
  },
  {
   "source": [
    "## Displaying your results\n",
    "Plot the average execution time as a function of N"
   ],
   "cell_type": "markdown",
   "metadata": {}
  },
  {
   "cell_type": "code",
   "execution_count": null,
   "metadata": {},
   "outputs": [],
   "source": []
  },
  {
   "source": [
    "# Annexes : Useful code snippets\n",
    "## Routine for measuring execution time "
   ],
   "cell_type": "markdown",
   "metadata": {}
  },
  {
   "cell_type": "code",
   "execution_count": null,
   "metadata": {},
   "outputs": [],
   "source": [
    "import time "
   ]
  },
  {
   "cell_type": "code",
   "execution_count": null,
   "metadata": {},
   "outputs": [],
   "source": [
    "# store starting time \n",
    "begin = time.time() \n",
    "  \n",
    "# program body starts \n",
    "for i in range(5): \n",
    "    print(\"Cherwell rocks !\") \n",
    "# program body ends \n",
    "\n",
    "# store end time \n",
    "\n",
    "end = time.time()\n",
    "  \n",
    "# total time taken \n",
    "print(f\"Total runtime of the program is {(end - begin)*10e3} ms\") \n"
   ]
  },
  {
   "cell_type": "code",
   "execution_count": null,
   "metadata": {},
   "outputs": [],
   "source": [
    "def time_it(func,*args):\n",
    "    # store starting time\n",
    "    #  \n",
    "    begin = time.time() \n",
    "    \n",
    "    # program body starts \n",
    "    func(*args)\n",
    "    # program body ends \n",
    "\n",
    "    # store end time \n",
    "    end = time.time()\n",
    "    \n",
    "    # total time taken \n",
    "    print(f\"Total runtime of the program is {(end - begin)*10e3} ms\") \n"
   ]
  },
  {
   "cell_type": "code",
   "execution_count": null,
   "metadata": {},
   "outputs": [],
   "source": [
    "def print_cherwell(n):\n",
    "    for i in range(n): \n",
    "        print(\"Cherwell CS rocks !\")"
   ]
  },
  {
   "cell_type": "code",
   "execution_count": null,
   "metadata": {},
   "outputs": [],
   "source": [
    "time_it(print_cherwell,5)"
   ]
  },
  {
   "source": [
    "## Plotting with matplotlib"
   ],
   "cell_type": "markdown",
   "metadata": {}
  },
  {
   "cell_type": "code",
   "execution_count": null,
   "metadata": {},
   "outputs": [],
   "source": [
    "# simple graph\n",
    "x=[1,2,3]\n",
    "y=[1,5,3]\n",
    "plt.plot(x,y)"
   ]
  },
  {
   "cell_type": "code",
   "execution_count": null,
   "metadata": {},
   "outputs": [],
   "source": [
    "# more complex graph\n",
    "N = np.linspace(1,1000)\n",
    "plt.plot(N, np.ones_like(N), label=\"1\")\n",
    "plt.plot(N, N, label=\"n\")              \n",
    "plt.plot(N, N*np.log(N), label = \"n.log(n)\")    \n",
    "# plt.plot(N, N*N, label=\"N²\")\n",
    "plt.xlabel(\"list length\")\n",
    "plt.ylabel(\"runtime\")\n",
    "plt.title(\"Comparing Complexities\")\n",
    "plt.legend()"
   ]
  },
  {
   "source": [
    "## Use Numpy arrays "
   ],
   "cell_type": "markdown",
   "metadata": {}
  },
  {
   "source": [
    "1D"
   ],
   "cell_type": "markdown",
   "metadata": {}
  },
  {
   "cell_type": "code",
   "execution_count": null,
   "metadata": {},
   "outputs": [],
   "source": [
    "l = [x for x in range (10)]\n",
    "print(\"list :\\n\",l)\n",
    "arr = np.array(l)\n",
    "print(\"array :\\n\", arr)"
   ]
  },
  {
   "source": [
    "2D"
   ],
   "cell_type": "markdown",
   "metadata": {}
  },
  {
   "cell_type": "code",
   "execution_count": null,
   "metadata": {},
   "outputs": [],
   "source": [
    "l = [ [x*y for x in range (10)] for  y in range(3)]\n",
    "print(\"list :\\n\",l)\n",
    "arr = np.array(l)\n",
    "print(\"array :\\n\", arr)\n",
    "print(arr[2,6])"
   ]
  },
  {
   "source": [
    "## Using multi-processing"
   ],
   "cell_type": "markdown",
   "metadata": {}
  },
  {
   "cell_type": "code",
   "execution_count": null,
   "metadata": {},
   "outputs": [],
   "source": [
    "from multiprocessing import Pool\n",
    "\n",
    "def f(x):\n",
    "    return x*x\n",
    "\n",
    "if __name__ == '__main__':\n",
    "    with Pool(5) as p:\n",
    "        print(p.map(f, [1, 2, 3]))"
   ]
  },
  {
   "cell_type": "code",
   "execution_count": null,
   "metadata": {},
   "outputs": [],
   "source": []
  }
 ]
}