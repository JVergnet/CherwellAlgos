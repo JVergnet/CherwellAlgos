{
 "metadata": {
  "language_info": {
   "codemirror_mode": {
    "name": "ipython",
    "version": 3
   },
   "file_extension": ".py",
   "mimetype": "text/x-python",
   "name": "python",
   "nbconvert_exporter": "python",
   "pygments_lexer": "ipython3",
   "version": "3.8.6-final"
  },
  "orig_nbformat": 2,
  "kernelspec": {
   "name": "python3",
   "display_name": "Python 3",
   "language": "python"
  }
 },
 "nbformat": 4,
 "nbformat_minor": 2,
 "cells": [
  {
   "source": [
    "# List comprehension"
   ],
   "cell_type": "markdown",
   "metadata": {}
  },
  {
   "source": [
    "Principle: \n",
    "\n",
    "\n",
    "The idea of a list comprehension is to make code more compact to accomplish tasks involving lists. \n"
   ],
   "cell_type": "markdown",
   "metadata": {}
  },
  {
   "cell_type": "code",
   "execution_count": 1,
   "metadata": {},
   "outputs": [],
   "source": [
    "years_of_birth = [1990, 1991, 1990, 2000, 2012, 2020]"
   ]
  },
  {
   "cell_type": "code",
   "execution_count": 3,
   "metadata": {},
   "outputs": [
    {
     "output_type": "stream",
     "name": "stdout",
     "text": [
      "[31, 30, 31, 21, 9, 1]\n"
     ]
    }
   ],
   "source": [
    "  ages = []\n",
    "  for year in years_of_birth:\n",
    "    ages.append(2021 - year)\n",
    "  print(ages)"
   ]
  },
  {
   "source": [
    "This code translates the years of birth into ages, and it took us a for loop and an append statement to a new list to do that."
   ],
   "cell_type": "markdown",
   "metadata": {}
  },
  {
   "cell_type": "code",
   "execution_count": 5,
   "metadata": {},
   "outputs": [
    {
     "output_type": "stream",
     "name": "stdout",
     "text": [
      "[31, 30, 31, 21, 9, 1]\n"
     ]
    }
   ],
   "source": [
    "  ages = [ 2021 - year for year in years_of_birth]\n",
    "  print(ages)"
   ]
  },
  {
   "source": [
    "This is a list comprehension.\n",
    "\n",
    "It accomplishes the same thing as the first code sample - at the end, the ages variable has a list containing the ages corresponding to all the birthdates."
   ],
   "cell_type": "markdown",
   "metadata": {}
  },
  {
   "source": [
    "## Exercises"
   ],
   "cell_type": "markdown",
   "metadata": {}
  },
  {
   "source": [
    "Create an identical list from the first list using list comprehension."
   ],
   "cell_type": "markdown",
   "metadata": {}
  },
  {
   "cell_type": "code",
   "execution_count": 6,
   "metadata": {},
   "outputs": [],
   "source": [
    "lst1=[1,2,3,4,5]"
   ]
  },
  {
   "cell_type": "code",
   "execution_count": 7,
   "metadata": {},
   "outputs": [
    {
     "output_type": "execute_result",
     "data": {
      "text/plain": [
       "[1, 2, 3, 4, 5]"
      ]
     },
     "metadata": {},
     "execution_count": 7
    }
   ],
   "source": [
    "copy_of_lst1 = # you make a copy by value and not by reference here !! \n",
    "copy_of_lst1"
   ]
  },
  {
   "source": [
    "Using list comprehension, construct a list from the squares of each element in the list."
   ],
   "cell_type": "markdown",
   "metadata": {}
  },
  {
   "cell_type": "code",
   "execution_count": 10,
   "metadata": {},
   "outputs": [
    {
     "output_type": "execute_result",
     "data": {
      "text/plain": [
       "[1, 32, 243, 1024, 3125]"
      ]
     },
     "metadata": {},
     "execution_count": 10
    }
   ],
   "source": [
    "lst1=[1,2,3,4,5]\n",
    "squared_list = \n",
    "squared_list "
   ]
  },
  {
   "source": [
    "Create a list from the elements of a range from 1200 to 2000 with steps of 130, using list comprehension and the function __range()__"
   ],
   "cell_type": "markdown",
   "metadata": {}
  },
  {
   "cell_type": "code",
   "execution_count": 157,
   "metadata": {},
   "outputs": [
    {
     "output_type": "stream",
     "name": "stdout",
     "text": [
      "[0, 1, 2, 3, 4, 5, 6, 7, 8, 9]\n[0, 1, 2, 3, 4, 5, 6, 7, 8, 9]\n[4, 5, 6, 7, 8, 9]\n[4, 6, 8]\n[10, 9, 8, 7, 6, 5]\n"
     ]
    }
   ],
   "source": [
    "print([n for n in range(10)]) # end value not included ! \n",
    "print([n for n in range(0,10,1)]) #  start value = 0 and step = 1 (same as default) \n",
    "print([n for n in range(4,10)]) # changing start value\n",
    "print([n for n in range(4,10, 2)]) # changing step\n",
    "print([n for n in range(10,4, -1)]) # changing order and decresing step"
   ]
  },
  {
   "cell_type": "code",
   "execution_count": 11,
   "metadata": {},
   "outputs": [
    {
     "output_type": "stream",
     "name": "stdout",
     "text": [
      "[1200, 1330, 1460, 1590, 1720, 1850, 1980]\n"
     ]
    }
   ],
   "source": []
  },
  {
   "source": [
    "# Conditions"
   ],
   "cell_type": "markdown",
   "metadata": {}
  },
  {
   "cell_type": "code",
   "execution_count": 14,
   "metadata": {},
   "outputs": [],
   "source": [
    "years_of_birth = [1990, 1991, 2008, 2005, 2012, 2020]\n",
    "ages_of_teens = []\n",
    "for year in years_of_birth:\n",
    "    age = 2021 - year\n",
    "    if age <= 19 and age>=13 : \n",
    "        ages_of_teens.append(age)"
   ]
  },
  {
   "cell_type": "code",
   "execution_count": 16,
   "metadata": {},
   "outputs": [],
   "source": [
    "ages_of_teens = [ 2021 - year for year in years_of_birth \\ \n",
    "                if 2021 - year <= 19 and 2021 - year>=13  ]"
   ]
  },
  {
   "cell_type": "code",
   "execution_count": 17,
   "metadata": {},
   "outputs": [
    {
     "output_type": "execute_result",
     "data": {
      "text/plain": [
       "[13, 16]"
      ]
     },
     "metadata": {},
     "execution_count": 17
    }
   ],
   "source": [
    "ages_of_teens"
   ]
  },
  {
   "source": [
    "Using list comprehension, construct a list from the squares of each element in the list, if the square is greater than 50."
   ],
   "cell_type": "markdown",
   "metadata": {}
  },
  {
   "source": [
    "lst1=[2, 4, 6, 8, 10, 12, 14]\n",
    "squares_above_fifty=\n",
    "squares_above_fifty"
   ],
   "cell_type": "code",
   "metadata": {},
   "execution_count": 19,
   "outputs": [
    {
     "output_type": "execute_result",
     "data": {
      "text/plain": [
       "[64, 100, 144, 196]"
      ]
     },
     "metadata": {},
     "execution_count": 19
    }
   ]
  },
  {
   "source": [
    "return only the odd element of the list  "
   ],
   "cell_type": "markdown",
   "metadata": {}
  },
  {
   "cell_type": "code",
   "execution_count": 20,
   "metadata": {},
   "outputs": [
    {
     "output_type": "execute_result",
     "data": {
      "text/plain": [
       "[5, 9, 11]"
      ]
     },
     "metadata": {},
     "execution_count": 20
    }
   ],
   "source": [
    "lst1=[2, 5, 6, 9, 11, 12, 14]\n",
    "odd_elements = \n",
    "odd_elements"
   ]
  },
  {
   "source": [
    "## Very difficult optional question \n",
    "Find all prime numbers smaller than N using a single line with list comprehensin"
   ],
   "cell_type": "markdown",
   "metadata": {}
  },
  {
   "cell_type": "code",
   "execution_count": 21,
   "metadata": {},
   "outputs": [
    {
     "output_type": "execute_result",
     "data": {
      "text/plain": [
       "[1, 2, 3, 5, 7, 11, 13, 17, 19]"
      ]
     },
     "metadata": {},
     "execution_count": 21
    }
   ],
   "source": [
    "n = 20\n",
    "[i for i in range(1,n+1) if all([i%k!=0 for k in range(2,i)]) ] \n",
    "# ok that was probably too hard so i gave the answer away"
   ]
  },
  {
   "source": [
    "# Nested lists\n",
    "\n",
    " \n",
    "to create 2D arrays "
   ],
   "cell_type": "markdown",
   "metadata": {}
  },
  {
   "cell_type": "code",
   "execution_count": 108,
   "metadata": {},
   "outputs": [
    {
     "output_type": "stream",
     "name": "stdout",
     "text": [
      "[[1, 2, 3, 4, 5], [2, 4, 6, 8, 10], [3, 6, 9, 12, 15]]\n[3, 6, 9, 12, 15]\n15\n"
     ]
    }
   ],
   "source": [
    "rows = 3\n",
    "columns = 5\n",
    "arr = [[(j+1)*(i+1) for j in range(columns)] for i in range(rows)]\n",
    "print(arr)\n",
    "print(arr[2]) #3rd row\n",
    "print(arr[2][4]) # 5th elt of 3rd row"
   ]
  },
  {
   "source": [
    "### pro tip : NUMPY library  \n",
    "\n",
    "use numpy to manipulate these arrays easily. Numpy, coded in C is VERY efficient for heavy calculation. "
   ],
   "cell_type": "markdown",
   "metadata": {}
  },
  {
   "cell_type": "code",
   "execution_count": 142,
   "metadata": {},
   "outputs": [],
   "source": [
    "import numpy as np"
   ]
  },
  {
   "cell_type": "code",
   "execution_count": 150,
   "metadata": {},
   "outputs": [
    {
     "output_type": "stream",
     "name": "stdout",
     "text": [
      "[[ 1  2  3  4  5]\n [ 2  4  6  8 10]\n [ 3  6  9 12 15]]\n15\n[ 5 10 15]\n[15 10  5]\n[[ -1.5  -3.   -4.5  -6.   -7.5]\n [ -3.   -6.   -9.  -12.  -15. ]\n [ -4.5  -9.  -13.5 -18.  -22.5]]\n"
     ]
    }
   ],
   "source": [
    "np_arr = np.array(arr)\n",
    "print(np_arr) # better display of array\n",
    "print(np_arr[2,4]) # accessing the elements with one set of []\n",
    "print(np_arr[:,4]) # replacing a row index by : takes all the rows, hence a column\n",
    "print(np_arr[::-1,4]) # print the column in reverse !! \n",
    "print(np_arr*-1.5) # multiply the whole array by a float"
   ]
  },
  {
   "source": [
    "# PACKING AND UNPACKING \n",
    "# Unpacking variables "
   ],
   "cell_type": "markdown",
   "metadata": {}
  },
  {
   "source": [
    "When we have a list, we can assign the values of the list to several variables"
   ],
   "cell_type": "markdown",
   "metadata": {}
  },
  {
   "cell_type": "code",
   "execution_count": 17,
   "metadata": {},
   "outputs": [
    {
     "output_type": "stream",
     "name": "stdout",
     "text": [
      "i=1 , j=2 , k=3\n"
     ]
    }
   ],
   "source": [
    "i,j,k = [1,2,3]\n",
    "print(f\"i={i} , j={j} , k={k}\")"
   ]
  },
  {
   "source": [
    "when we have a list of list, we can either use ech element"
   ],
   "cell_type": "markdown",
   "metadata": {}
  },
  {
   "cell_type": "code",
   "execution_count": 25,
   "metadata": {},
   "outputs": [],
   "source": [
    "L = [[1,'a'],[2,'b'],[3,'c']]"
   ]
  },
  {
   "cell_type": "code",
   "execution_count": 13,
   "metadata": {},
   "outputs": [
    {
     "output_type": "stream",
     "name": "stdout",
     "text": [
      "[1, 'a']\n[2, 'b']\n[3, 'c']\n"
     ]
    }
   ],
   "source": [
    "for a in L : \n",
    "    print(a) # each element is a list (i.e. \"packed\")"
   ]
  },
  {
   "cell_type": "code",
   "execution_count": 99,
   "metadata": {},
   "outputs": [
    {
     "output_type": "stream",
     "name": "stdout",
     "text": [
      "number : 1 , letter : a\nnumber : 2 , letter : b\nnumber : 3 , letter : c\n"
     ]
    }
   ],
   "source": [
    "for a in L : \n",
    "    n,char  = a # we \"unpack\" each element \n",
    "    print(f\"number : {n} , letter : {char}\")"
   ]
  },
  {
   "source": [
    "or we can \"unpack\" the elements in the \"for\" loop"
   ],
   "cell_type": "markdown",
   "metadata": {}
  },
  {
   "cell_type": "code",
   "execution_count": 14,
   "metadata": {},
   "outputs": [
    {
     "output_type": "stream",
     "name": "stdout",
     "text": [
      "number : 1 , letter a\nnumber : 2 , letter b\nnumber : 3 , letter c\n"
     ]
    }
   ],
   "source": [
    "for n,char in L : # we \"unpack\" in the for loop\n",
    "    print(f\"number : {n} , letter : {char}\")"
   ]
  },
  {
   "cell_type": "code",
   "execution_count": 26,
   "metadata": {},
   "outputs": [
    {
     "output_type": "stream",
     "name": "stdout",
     "text": [
      "number : 1 , letter : a\nnumber : 2 , letter : b\nnumber : 3 , letter : c\n"
     ]
    },
    {
     "output_type": "execute_result",
     "data": {
      "text/plain": [
       "[None, None, None]"
      ]
     },
     "metadata": {},
     "execution_count": 26
    }
   ],
   "source": [
    "[ print(f\"number : {n} , letter : {char}\")  for n, char in L ]"
   ]
  },
  {
   "source": [
    "# Packing variables with useful list functions \n",
    "# function \"enumerate\"\n",
    "\n",
    "This function returns a tuple with the index of the element and the value of the element"
   ],
   "cell_type": "markdown",
   "metadata": {}
  },
  {
   "cell_type": "code",
   "execution_count": 23,
   "metadata": {},
   "outputs": [
    {
     "output_type": "stream",
     "name": "stdout",
     "text": [
      "(0, 'a')\n(1, 'b')\n(2, 'c')\n"
     ]
    }
   ],
   "source": [
    "l=[\"a\", \"b\", \"c\"]\n",
    "for n in enumerate(l) : # we do not \"unpack\" the tuple\n",
    "    print(n)"
   ]
  },
  {
   "cell_type": "code",
   "execution_count": 29,
   "metadata": {},
   "outputs": [
    {
     "output_type": "stream",
     "name": "stdout",
     "text": [
      "index : 0 , element : a\nindex : 1 , element : b\nindex : 2 , element : c\n"
     ]
    }
   ],
   "source": [
    "l=[\"a\", \"b\", \"c\"]\n",
    "for index, element in enumerate(l) : # \"unpacking\" the tuple \n",
    "    print(f\"index : {index} , element : {element}\")"
   ]
  },
  {
   "source": [
    "## Exercise \n",
    "\n",
    "\n",
    "enhance the following linear search algorithm using \"enumerate\""
   ],
   "cell_type": "markdown",
   "metadata": {}
  },
  {
   "cell_type": "code",
   "execution_count": null,
   "metadata": {},
   "outputs": [],
   "source": [
    "def linear_search(list_to_search, object_to_find):\n",
    "    \"returns index of object or -1 if not present\"\n",
    "    for n in range(len(list_to_search)) : \n",
    "        if list_to_search[n] == object_to_find:\n",
    "            return n\n",
    "    return -1"
   ]
  },
  {
   "cell_type": "code",
   "execution_count": null,
   "metadata": {},
   "outputs": [],
   "source": [
    "def linear_search(list_to_search, object_to_find):\n",
    "    \"returns index of object or -1 if not present\"\n",
    "    for n,elt in enumerate(list_to_search) : \n",
    "        if elt == object_to_find:\n",
    "            return n\n",
    "    return -1"
   ]
  },
  {
   "source": [
    "## Function \"zip\"\n",
    "\n",
    "Packing two lists together (like a zip in a garment)"
   ],
   "cell_type": "markdown",
   "metadata": {}
  },
  {
   "cell_type": "code",
   "execution_count": 113,
   "metadata": {},
   "outputs": [
    {
     "output_type": "stream",
     "name": "stdout",
     "text": [
      "[('h', 0), ('e', 1), ('l', 2), ('l', 3), ('o', 4)]\n"
     ]
    }
   ],
   "source": [
    "letters = \"hello\"\n",
    "numbers = range(5)\n",
    "print([(l,n) for l,n in zip(letters, numbers)])"
   ]
  },
  {
   "source": [
    "## exercise \n",
    "\n",
    "here is a list of cars and a list of weight\n",
    "\n",
    "print a statement like \"the Sedan weights 1500 kg\" for each car. "
   ],
   "cell_type": "markdown",
   "metadata": {}
  },
  {
   "cell_type": "code",
   "execution_count": 125,
   "metadata": {},
   "outputs": [],
   "source": [
    "names = ['Sedan', 'SUV', 'Pickup', 'Minivan', 'Van', 'Semi', 'Bicycle', 'Motorcycle']\n",
    "values = [1500, 2000, 2500, 1600, 2400, 13600, 7, 110]"
   ]
  },
  {
   "cell_type": "code",
   "execution_count": null,
   "metadata": {},
   "outputs": [],
   "source": []
  },
  {
   "source": [
    "# Dictionary comprehension\n",
    "\n",
    "you can use dict comprehension as list comprehension, providing both a UNIQUE key and a value for each key"
   ],
   "cell_type": "markdown",
   "metadata": {}
  },
  {
   "cell_type": "code",
   "execution_count": 126,
   "metadata": {},
   "outputs": [
    {
     "output_type": "stream",
     "name": "stdout",
     "text": [
      "{'Sedan': 1500, 'SUV': 2000, 'Pickup': 2500, 'Minivan': 1600, 'Van': 2400, 'Semi': 13600, 'Bicycle': 7, 'Motorcycle': 110}\n"
     ]
    }
   ],
   "source": [
    "dicto = {k:v for k,v in zip(names, values)}\n",
    "print(dicto)"
   ]
  },
  {
   "source": [
    "This equivalent to declaring the folowing dict"
   ],
   "cell_type": "markdown",
   "metadata": {}
  },
  {
   "cell_type": "code",
   "execution_count": null,
   "metadata": {},
   "outputs": [],
   "source": [
    "vehicle_weight={\"Sedan\": 1500, \"SUV\": 2000, \"Pickup\": 2500, \"Minivan\": 1600, \"Van\": 2400, \"Semi\": 13600, \"Bicycle\": 7, \"Motorcycle\": 110}"
   ]
  },
  {
   "source": [
    "when you have a dictionnary you can acess its keys or values using dict.keys or dict.values but they are __NOT__ in order*\n",
    "\n",
    "*(except that python give them in order but ... don't get used to such coding gifts))"
   ],
   "cell_type": "markdown",
   "metadata": {}
  },
  {
   "cell_type": "code",
   "execution_count": 123,
   "metadata": {},
   "outputs": [
    {
     "output_type": "stream",
     "name": "stdout",
     "text": [
      "['Sedan', 'SUV', 'Pickup', 'Minivan', 'Van', 'Semi', 'Bicycle', 'Motorcycle']\n[1500, 2000, 2500, 1600, 2400, 13600, 7, 110]\n"
     ]
    }
   ],
   "source": [
    "print([k for k in vehicle_weight.keys()]) \n",
    "print([v for v in vehicle_weight.values()])"
   ]
  },
  {
   "source": [
    "Much more usefull is to get pairs with key AND value with dict.items() and print them as such"
   ],
   "cell_type": "markdown",
   "metadata": {}
  },
  {
   "cell_type": "code",
   "execution_count": 133,
   "metadata": {},
   "outputs": [
    {
     "output_type": "execute_result",
     "data": {
      "text/plain": [
       "['The Sedan weights 1500 kg',\n",
       " 'The SUV weights 2000 kg',\n",
       " 'The Pickup weights 2500 kg',\n",
       " 'The Minivan weights 1600 kg',\n",
       " 'The Van weights 2400 kg',\n",
       " 'The Semi weights 13600 kg',\n",
       " 'The Bicycle weights 7 kg',\n",
       " 'The Motorcycle weights 110 kg']"
      ]
     },
     "metadata": {},
     "execution_count": 133
    }
   ],
   "source": [
    "[f\"The {k} weights {v} kg\" for k,v in vehicle_weight.items()]"
   ]
  },
  {
   "source": [
    "## Exercise : \n",
    "Contruct a list of the names of vehicles with weight below 5000 kilograms. In the same list comprehension make the key names all upper case (str.upper)."
   ],
   "cell_type": "markdown",
   "metadata": {}
  },
  {
   "cell_type": "code",
   "execution_count": 137,
   "metadata": {},
   "outputs": [
    {
     "output_type": "execute_result",
     "data": {
      "text/plain": [
       "'ABC'"
      ]
     },
     "metadata": {},
     "execution_count": 137
    }
   ],
   "source": [
    "\"abc\".upper() #here is how to force uppercase"
   ]
  }
 ]
}
